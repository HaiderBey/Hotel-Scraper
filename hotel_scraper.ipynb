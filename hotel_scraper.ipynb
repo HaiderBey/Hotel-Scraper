{
 "cells": [
  {
   "cell_type": "code",
   "execution_count": 3,
   "id": "60ef37c5",
   "metadata": {},
   "outputs": [],
   "source": [
    "import requests # To fetch html\n",
    "from bs4 import BeautifulSoup # To extract parts of html\n",
    "import pandas as pd\n",
    "from selenium import webdriver\n",
    "from selenium.webdriver.common.by import By\n",
    "from selenium.webdriver.support.ui import WebDriverWait\n",
    "from selenium.webdriver.support import expected_conditions as EC\n",
    "import time\n"
   ]
  },
  {
   "cell_type": "code",
   "execution_count": 4,
   "id": "dc077ea4",
   "metadata": {},
   "outputs": [],
   "source": [
    "def collectLinks(html, listName, destination): #khater fama 3 divs w n7eb njib ken zouz bel ID\n",
    "    container = html.find(\"div\", {\"id\":destination})\n",
    "    \n",
    "    for dest_elem in container.find_all(\"a\"):\n",
    "        link = dest_elem.get('href')\n",
    "        if link != \"#\":\n",
    "            listName.append(link)\n"
   ]
  },
  {
   "cell_type": "code",
   "execution_count": 5,
   "id": "eb98f590",
   "metadata": {},
   "outputs": [
    {
     "name": "stdout",
     "output_type": "stream",
     "text": [
      "['https://tn.tunisiebooking.com/hotels-tunisie.html', 'https://tn.tunisiebooking.com/hotels_hammamet.html', 'https://tn.tunisiebooking.com/hotels_tabarka.html', 'https://tn.tunisiebooking.com/hotels_sousse.html', 'https://tn.tunisiebooking.com/hotels_monastir.html', 'https://tn.tunisiebooking.com/hotels_mahdia.html', 'https://tn.tunisiebooking.com/hotels_djerba.html', 'https://tn.tunisiebooking.com/hotels_tunis.html', 'https://tn.tunisiebooking.com/hotels_tozeur.html', 'https://tn.tunisiebooking.com/hotels_korbous.html', 'https://tn.tunisiebooking.com/hotels_kelibia.html', 'https://tn.tunisiebooking.com/hotels_zarzis.html', 'https://tn.tunisiebooking.com/hotels_sfax.html', 'https://tn.tunisiebooking.com/hotels_nabeul.html', 'https://tn.tunisiebooking.com/hotels_gammarth.html', 'https://tn.tunisiebooking.com/hotels_douz.html', 'https://tn.tunisiebooking.com/hotels_bizerte.html', 'https://tn.tunisiebooking.com/hotels_ain_draham.html', 'https://tn.tunisiebooking.com/hotels_kairouan.html', 'https://tn.tunisiebooking.com/hotels_gabes.html', 'https://tn.tunisiebooking.com/hotels_sbeitla.html', 'https://tn.tunisiebooking.com/hotels_tataouine.html', 'https://tn.tunisiebooking.com/hotels_el_jem.html', 'https://tn.tunisiebooking.com/hotels_ksar_ghilane.html', 'https://tn.tunisiebooking.com/hotels_gafsa.html']\n"
     ]
    }
   ],
   "source": [
    "url = \"https://tn.tunisiebooking.com\"\n",
    "\n",
    "response = requests.get(url)\n",
    "\n",
    "dest_links = [] #destination links\n",
    "if response.status_code == 200:\n",
    "    soup = BeautifulSoup(response.content, \"html.parser\")\n",
    "\n",
    "    collectLinks(soup, dest_links, \"top_destination\")\n",
    "    collectLinks(soup, dest_links, \"autre_hotels\")\n",
    "\n",
    "\n",
    "print(dest_links)\n",
    "    "
   ]
  },
  {
   "cell_type": "code",
   "execution_count": null,
   "id": "491db7ea",
   "metadata": {},
   "outputs": [
    {
     "name": "stdout",
     "output_type": "stream",
     "text": [
      "Meilleur Hotel en Tunisie à partir de 46 DT\n",
      "Vincci Helios Beach\n",
      "https://image.resabooking.com/images/image_panoramique/Vincci_Helios_Beach_2.jpg\n",
      "132\n",
      "Venice Beach\n",
      "None\n",
      "83\n",
      "Radisson Blu Palace Resort et Thalasso\n",
      "None\n",
      "239\n",
      "Hôtels à Hammamet - Nos meilleurs prix 2025 !\n",
      "El Mouradi Hammamet\n",
      "https://image.resabooking.com/images/image_panoramique/El_Mouradi_Hammamet_2.jpg\n",
      "84\n",
      "El Mouradi El Menzah\n",
      "None\n",
      "76\n",
      "Zodiac Hotel & Aqua Park\n",
      "None\n",
      "86\n",
      "Hôtels à Tabarka - Nos meilleurs prix 2025 !\n",
      "Dar Ismail\n",
      "https://image.resabooking.com/images/image_panoramique/dar_ismail_2.jpg\n",
      "130\n",
      "Marina Prestige\n",
      "None\n",
      "90\n",
      "Golden Yasmine Mehari Tabarka\n",
      "None\n",
      "96\n",
      "Hôtels à Sousse - Nos meilleurs prix 2025 !\n",
      "Hotel KANTA\n",
      "https://image.resabooking.com/images/image_panoramique/Hotel_KANTA_2.jpg\n",
      "72\n",
      "Marhaba Beach\n",
      "None\n",
      "92\n",
      "El Mouradi Palace\n",
      "None\n",
      "84\n",
      "Hôtels à Monastir - Nos meilleurs prix 2025 !\n",
      "Caribbean World Monastir\n",
      "https://image.resabooking.com/images/hotel/Caribbean_World_Monastir_._.jpeg\n",
      "126\n",
      "El Mouradi Skanes\n",
      "None\n",
      "98\n",
      "City Busines Hotels\n",
      "None\n",
      "73\n",
      "Hôtels à Mahdia - Nos meilleurs prix 2025 !\n",
      "El Mouradi Mahdia\n",
      "https://image.resabooking.com/images/image_panoramique/El_Mouradi_Mahdia_2.jpg\n",
      "108\n",
      "Monarque El Fatimi\n",
      "None\n",
      "157\n",
      "Iberostar Royal El Mansour et Thalasso\n",
      "None\n",
      "140\n"
     ]
    },
    {
     "ename": "TypeError",
     "evalue": "Incoming markup is of an invalid type: None. Markup must be a string, a bytestring, or an open filehandle.",
     "output_type": "error",
     "traceback": [
      "\u001b[31m---------------------------------------------------------------------------\u001b[39m",
      "\u001b[31mTypeError\u001b[39m                                 Traceback (most recent call last)",
      "\u001b[36mCell\u001b[39m\u001b[36m \u001b[39m\u001b[32mIn[10]\u001b[39m\u001b[32m, line 19\u001b[39m\n\u001b[32m      8\u001b[39m driver.get(link)\n\u001b[32m     10\u001b[39m \u001b[38;5;66;03m# while True:\u001b[39;00m\n\u001b[32m     11\u001b[39m \u001b[38;5;66;03m#     try:\u001b[39;00m\n\u001b[32m     12\u001b[39m \u001b[38;5;66;03m#         see_more = WebDriverWait(driver, 5).until(EC.element_to_be_clickable((By.XPATH, \"//u[contains(., 'Voir plus')]\")))\u001b[39;00m\n\u001b[32m   (...)\u001b[39m\u001b[32m     15\u001b[39m \u001b[38;5;66;03m#     except:\u001b[39;00m\n\u001b[32m     16\u001b[39m \u001b[38;5;66;03m#         break\u001b[39;00m\n\u001b[32m---> \u001b[39m\u001b[32m19\u001b[39m dest_content = \u001b[43mBeautifulSoup\u001b[49m\u001b[43m(\u001b[49m\u001b[43mdriver\u001b[49m\u001b[43m.\u001b[49m\u001b[43mpage_source\u001b[49m\u001b[43m,\u001b[49m\u001b[43m \u001b[49m\u001b[33;43m\"\u001b[39;49m\u001b[33;43mhtml.parser\u001b[39;49m\u001b[33;43m\"\u001b[39;49m\u001b[43m)\u001b[49m\n\u001b[32m     21\u001b[39m hotel_cards = dest_content.find_all(\u001b[33m'\u001b[39m\u001b[33mdiv\u001b[39m\u001b[33m'\u001b[39m, class_ = \u001b[33m'\u001b[39m\u001b[33mun_destination\u001b[39m\u001b[33m'\u001b[39m)\n\u001b[32m     23\u001b[39m \u001b[38;5;28mprint\u001b[39m(dest_content.find(\u001b[33m'\u001b[39m\u001b[33mh1\u001b[39m\u001b[33m'\u001b[39m).text.strip())\n",
      "\u001b[36mFile \u001b[39m\u001b[32mc:\\Users\\Assad Ben Brahim\\AppData\\Local\\Programs\\Python\\Python313\\Lib\\site-packages\\bs4\\__init__.py:442\u001b[39m, in \u001b[36mBeautifulSoup.__init__\u001b[39m\u001b[34m(self, markup, features, builder, parse_only, from_encoding, exclude_encodings, element_classes, **kwargs)\u001b[39m\n\u001b[32m    440\u001b[39m     markup = markup.read()\n\u001b[32m    441\u001b[39m \u001b[38;5;28;01melif\u001b[39;00m \u001b[38;5;129;01mnot\u001b[39;00m \u001b[38;5;28misinstance\u001b[39m(markup, (\u001b[38;5;28mbytes\u001b[39m, \u001b[38;5;28mstr\u001b[39m)) \u001b[38;5;129;01mand\u001b[39;00m \u001b[38;5;129;01mnot\u001b[39;00m \u001b[38;5;28mhasattr\u001b[39m(markup, \u001b[33m\"\u001b[39m\u001b[33m__len__\u001b[39m\u001b[33m\"\u001b[39m):\n\u001b[32m--> \u001b[39m\u001b[32m442\u001b[39m     \u001b[38;5;28;01mraise\u001b[39;00m \u001b[38;5;167;01mTypeError\u001b[39;00m(\n\u001b[32m    443\u001b[39m         \u001b[33mf\u001b[39m\u001b[33m\"\u001b[39m\u001b[33mIncoming markup is of an invalid type: \u001b[39m\u001b[38;5;132;01m{\u001b[39;00mmarkup\u001b[38;5;132;01m!r}\u001b[39;00m\u001b[33m. Markup must be a string, a bytestring, or an open filehandle.\u001b[39m\u001b[33m\"\u001b[39m\n\u001b[32m    444\u001b[39m     )\n\u001b[32m    445\u001b[39m \u001b[38;5;28;01melif\u001b[39;00m \u001b[38;5;28mlen\u001b[39m(markup) <= \u001b[32m256\u001b[39m \u001b[38;5;129;01mand\u001b[39;00m (\n\u001b[32m    446\u001b[39m     (\u001b[38;5;28misinstance\u001b[39m(markup, \u001b[38;5;28mbytes\u001b[39m) \u001b[38;5;129;01mand\u001b[39;00m \u001b[33mb\u001b[39m\u001b[33m\"\u001b[39m\u001b[33m<\u001b[39m\u001b[33m\"\u001b[39m \u001b[38;5;129;01mnot\u001b[39;00m \u001b[38;5;129;01min\u001b[39;00m markup \u001b[38;5;129;01mand\u001b[39;00m \u001b[33mb\u001b[39m\u001b[33m\"\u001b[39m\u001b[38;5;130;01m\\n\u001b[39;00m\u001b[33m\"\u001b[39m \u001b[38;5;129;01mnot\u001b[39;00m \u001b[38;5;129;01min\u001b[39;00m markup)\n\u001b[32m    447\u001b[39m     \u001b[38;5;129;01mor\u001b[39;00m (\u001b[38;5;28misinstance\u001b[39m(markup, \u001b[38;5;28mstr\u001b[39m) \u001b[38;5;129;01mand\u001b[39;00m \u001b[33m\"\u001b[39m\u001b[33m<\u001b[39m\u001b[33m\"\u001b[39m \u001b[38;5;129;01mnot\u001b[39;00m \u001b[38;5;129;01min\u001b[39;00m markup \u001b[38;5;129;01mand\u001b[39;00m \u001b[33m\"\u001b[39m\u001b[38;5;130;01m\\n\u001b[39;00m\u001b[33m\"\u001b[39m \u001b[38;5;129;01mnot\u001b[39;00m \u001b[38;5;129;01min\u001b[39;00m markup)\n\u001b[32m   (...)\u001b[39m\u001b[32m    451\u001b[39m     \u001b[38;5;66;03m# Beautiful Soup will still parse the input as markup,\u001b[39;00m\n\u001b[32m    452\u001b[39m     \u001b[38;5;66;03m# since that is sometimes the intended behavior.\u001b[39;00m\n\u001b[32m    453\u001b[39m     \u001b[38;5;28;01mif\u001b[39;00m \u001b[38;5;129;01mnot\u001b[39;00m \u001b[38;5;28mself\u001b[39m._markup_is_url(markup):\n",
      "\u001b[31mTypeError\u001b[39m: Incoming markup is of an invalid type: None. Markup must be a string, a bytestring, or an open filehandle."
     ]
    }
   ],
   "source": [
    "# def scrape_hotels(dest_links):\n",
    "hotels_date = []\n",
    "\n",
    "driver = webdriver.Chrome()\n",
    "\n",
    "for link in dest_links:\n",
    "\n",
    "    driver.get(link)\n",
    "    \n",
    "    # while True:\n",
    "    #     try:\n",
    "    #         see_more = WebDriverWait(driver, 5).until(EC.element_to_be_clickable((By.XPATH, \"//u[contains(., 'Voir plus')]\")))\n",
    "    #         see_more.click()\n",
    "    #         time.sleep(2)\n",
    "    #     except:\n",
    "    #         break\n",
    "\n",
    "\n",
    "    dest_content = BeautifulSoup(driver.page_source, \"html.parser\")\n",
    "    \n",
    "    hotel_cards = dest_content.find_all('div', class_ = 'un_destination')\n",
    "\n",
    "    print(dest_content.find('h1').text.strip())\n",
    "\n",
    "    for card in hotel_cards:\n",
    "        name_elem = card.find('div', class_ = 'titre-hotel')\n",
    "        name = name_elem.text.strip() if name_elem else 'N/A'\n",
    "        print(name)\n",
    "        \n",
    "        img_elem = card.find('img')\n",
    "        image = img_elem.get('src') if img_elem else \"N/A\"\n",
    "        \n",
    "        \"\"\"\n",
    "        https://dummyimage.com/374.2%20x%20252/ededed/404040.jpg&text=No+Image+Provided\n",
    "        Link for \"No Image Provided\" image (for future use)\n",
    "        \"\"\"\n",
    "        \n",
    "        \n",
    "\n",
    "        print(image)\n",
    "\n",
    "        price_elem = card.find('div', class_ = 'note-adresse-hotel')\n",
    "        price = price_elem.find('span').text.strip() if price_elem else 'N/A'\n",
    "        print(price)\n",
    "    \n",
    "\n",
    "\n",
    "\n"
   ]
  }
 ],
 "metadata": {
  "kernelspec": {
   "display_name": "Python 3",
   "language": "python",
   "name": "python3"
  },
  "language_info": {
   "codemirror_mode": {
    "name": "ipython",
    "version": 3
   },
   "file_extension": ".py",
   "mimetype": "text/x-python",
   "name": "python",
   "nbconvert_exporter": "python",
   "pygments_lexer": "ipython3",
   "version": "3.13.0"
  }
 },
 "nbformat": 4,
 "nbformat_minor": 5
}
