{
 "cells": [
  {
   "cell_type": "markdown",
   "id": "00ad1810",
   "metadata": {},
   "source": [
    "# NOTE: This is an exploratory notebook\n",
    "# For production scraping, use: scrapers/tunisiebooking.py"
   ]
  },
  {
   "cell_type": "code",
   "execution_count": 1,
   "id": "60ef37c5",
   "metadata": {},
   "outputs": [],
   "source": [
    "import requests # To fetch html\n",
    "from bs4 import BeautifulSoup # To extract parts of html\n",
    "import pandas as pd\n",
    "from selenium import webdriver\n",
    "from selenium.webdriver.common.by import By\n",
    "from selenium.webdriver.support.ui import WebDriverWait\n",
    "from selenium.webdriver.support import expected_conditions as EC\n",
    "import time\n",
    "from datetime import datetime"
   ]
  },
  {
   "cell_type": "code",
   "execution_count": 2,
   "id": "18cc5988",
   "metadata": {},
   "outputs": [],
   "source": [
    "url = \"https://tn.tunisiebooking.com\""
   ]
  },
  {
   "cell_type": "code",
   "execution_count": 3,
   "id": "dc077ea4",
   "metadata": {},
   "outputs": [],
   "source": [
    "def collectLinks(html, listName, destination): #khater fama 3 divs w n7eb njib ken zouz bel ID\n",
    "    container = html.find(\"div\", {\"id\":destination})\n",
    "    \n",
    "    for dest_elem in container.find_all(\"a\"):\n",
    "        link = dest_elem.get('href')\n",
    "        if link != \"#\":\n",
    "            listName.append(link)\n"
   ]
  },
  {
   "cell_type": "code",
   "execution_count": 4,
   "id": "eb98f590",
   "metadata": {},
   "outputs": [
    {
     "name": "stdout",
     "output_type": "stream",
     "text": [
      "['https://tn.tunisiebooking.com/hotels-tunisie.html', 'https://tn.tunisiebooking.com/hotels_hammamet.html', 'https://tn.tunisiebooking.com/hotels_tabarka.html', 'https://tn.tunisiebooking.com/hotels_sousse.html', 'https://tn.tunisiebooking.com/hotels_monastir.html', 'https://tn.tunisiebooking.com/hotels_mahdia.html', 'https://tn.tunisiebooking.com/hotels_djerba.html', 'https://tn.tunisiebooking.com/hotels_tunis.html', 'https://tn.tunisiebooking.com/hotels_tozeur.html', 'https://tn.tunisiebooking.com/hotels_korbous.html', 'https://tn.tunisiebooking.com/hotels_kelibia.html', 'https://tn.tunisiebooking.com/hotels_zarzis.html', 'https://tn.tunisiebooking.com/hotels_sfax.html', 'https://tn.tunisiebooking.com/hotels_nabeul.html', 'https://tn.tunisiebooking.com/hotels_gammarth.html', 'https://tn.tunisiebooking.com/hotels_douz.html', 'https://tn.tunisiebooking.com/hotels_bizerte.html', 'https://tn.tunisiebooking.com/hotels_ain_draham.html', 'https://tn.tunisiebooking.com/hotels_gafsa.html', 'https://tn.tunisiebooking.com/hotels_kairouan.html', 'https://tn.tunisiebooking.com/hotels_gabes.html', 'https://tn.tunisiebooking.com/hotels_sbeitla.html', 'https://tn.tunisiebooking.com/hotels_tataouine.html', 'https://tn.tunisiebooking.com/hotels_el_jem.html', 'https://tn.tunisiebooking.com/hotels_ksar_ghilane.html']\n"
     ]
    }
   ],
   "source": [
    "response = requests.get(url)\n",
    "\n",
    "dest_links = [] #destination links\n",
    "if response.status_code == 200:\n",
    "    soup = BeautifulSoup(response.content, \"html.parser\")\n",
    "\n",
    "    collectLinks(soup, dest_links, \"top_destination\")\n",
    "    collectLinks(soup, dest_links, \"autre_hotels\")\n",
    "\n",
    "\n",
    "print(dest_links)\n",
    "    "
   ]
  },
  {
   "cell_type": "code",
   "execution_count": null,
   "id": "491db7ea",
   "metadata": {},
   "outputs": [],
   "source": [
    "hotels_data = []\n",
    "\n",
    "driver = webdriver.Chrome()\n",
    "\n",
    "for link in dest_links:\n",
    "\n",
    "    driver.get(link)\n",
    "    \n",
    "    # while True:\n",
    "    #     try:\n",
    "    #         see_more = WebDriverWait(driver, 5).until(EC.element_to_be_clickable((By.XPATH, \"//u[contains(., 'Voir plus')]\")))\n",
    "    #         see_more.click()\n",
    "    #         time.sleep(2)\n",
    "    #     except:\n",
    "    #         break\n",
    "\n",
    "\n",
    "    dest_content = BeautifulSoup(driver.page_source, \"html.parser\")\n",
    "    \n",
    "    hotel_cards = dest_content.find_all('div', class_ = 'un_destination')\n",
    "\n",
    "    for card in hotel_cards:\n",
    "        name_elem = card.find('div', class_ = 'titre-hotel')\n",
    "        name = name_elem.text.strip() if name_elem else 'N/A'\n",
    "        \n",
    "        img_elem = card.find('img')\n",
    "        image = img_elem.get('src') if img_elem else \"N/A\"\n",
    "        \n",
    "        \"\"\"\n",
    "        https://dummyimage.com/374.2%20x%20252/ededed/404040.jpg&text=No+Image+Provided\n",
    "        Link for \"No Image Provided\" image (for future use)\n",
    "        \"\"\"\n",
    "        \n",
    "        price_elem = card.find('div', class_ = 'note-adresse-hotel')\n",
    "        price = price_elem.find('span').text.strip() if price_elem else 'N/A'\n",
    "\n",
    "        #Note tripad also contains trip advisor icon if needed for future use\n",
    "        rate_elem = card.find('div', class_ = 'note-tripad')\n",
    "        rate = rate_elem.find('span').text.strip() if rate_elem else '?/5'\n",
    "\n",
    "        hotels_data.append({\n",
    "            'Name': name,\n",
    "            'Image': image,\n",
    "            'Price' : price,\n",
    "            'Rate' : rate,\n",
    "            'Link': link\n",
    "        })\n",
    "\n",
    "driver.quit()"
   ]
  },
  {
   "cell_type": "code",
   "execution_count": 7,
   "id": "e32561f0",
   "metadata": {},
   "outputs": [],
   "source": [
    "from pathlib import Path\n",
    "\n",
    "df = pd.DataFrame(hotels_data)\n",
    "timestamp = datetime.now().strftime(\"%Y%m%d_%H%M\")\n",
    "\n",
    "output_path = Path(\"data\") / f\"tunisie_booking_hotels_{timestamp}.csv\"\n",
    "df.to_csv(output_path, index=False, encoding='utf-8-sig')"
   ]
  }
 ],
 "metadata": {
  "kernelspec": {
   "display_name": "Python 3",
   "language": "python",
   "name": "python3"
  },
  "language_info": {
   "codemirror_mode": {
    "name": "ipython",
    "version": 3
   },
   "file_extension": ".py",
   "mimetype": "text/x-python",
   "name": "python",
   "nbconvert_exporter": "python",
   "pygments_lexer": "ipython3",
   "version": "3.13.0"
  }
 },
 "nbformat": 4,
 "nbformat_minor": 5
}
